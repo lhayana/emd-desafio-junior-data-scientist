{
 "cells": [
  {
   "cell_type": "code",
   "execution_count": 126,
   "metadata": {},
   "outputs": [],
   "source": [
    "import json\n",
    "import requests\n",
    "from datetime import datetime\n",
    "import openmeteo_requests\n",
    "import requests_cache\n",
    "import pandas as pd\n",
    "from retry_requests import retry"
   ]
  },
  {
   "cell_type": "code",
   "execution_count": 127,
   "metadata": {},
   "outputs": [
    {
     "name": "stdout",
     "output_type": "stream",
     "text": [
      "2024-01-01\n",
      "2024-02-12\n",
      "2024-02-13\n",
      "2024-03-29\n",
      "2024-03-31\n",
      "2024-04-21\n",
      "2024-05-01\n",
      "2024-05-30\n",
      "2024-07-09\n",
      "2024-09-07\n",
      "2024-10-12\n",
      "2024-11-02\n",
      "2024-11-15\n",
      "2024-12-25\n"
     ]
    }
   ],
   "source": [
    "response = requests.get('https://date.nager.at/api/v3/publicholidays/2024/BR')\n",
    "public_holidays = json.loads(response.content)\n",
    "\n",
    "for public_holiday in public_holidays:\n",
    "  print(public_holiday['date'])"
   ]
  },
  {
   "cell_type": "markdown",
   "metadata": {},
   "source": [
    "**1. Quantos feriados há no Brasil em todo o ano de 2024?**"
   ]
  },
  {
   "cell_type": "code",
   "execution_count": 128,
   "metadata": {},
   "outputs": [
    {
     "name": "stdout",
     "output_type": "stream",
     "text": [
      "14\n"
     ]
    }
   ],
   "source": [
    "quantidade_feriados = 0\n",
    "\n",
    "for public_holiday in public_holidays:\n",
    "  quantidade_feriados=quantidade_feriados+1\n",
    "\n",
    "print(quantidade_feriados)"
   ]
  },
  {
   "cell_type": "markdown",
   "metadata": {},
   "source": [
    "**2. Qual mês de 2024 tem o maior número de feriados?**"
   ]
  },
  {
   "cell_type": "code",
   "execution_count": 129,
   "metadata": {},
   "outputs": [],
   "source": [
    "feriados_por_mes = {i: 0 for i in range(1, 13)}\n",
    "for public_holiday in public_holidays:\n",
    "    mes = int(public_holiday['date'].split('-')[1])\n",
    "    feriados_por_mes[mes] += 1"
   ]
  },
  {
   "cell_type": "code",
   "execution_count": 130,
   "metadata": {},
   "outputs": [
    {
     "name": "stdout",
     "output_type": "stream",
     "text": [
      "Mês 1: 1 feriados\n",
      "Mês 2: 2 feriados\n",
      "Mês 3: 2 feriados\n",
      "Mês 4: 1 feriados\n",
      "Mês 5: 2 feriados\n",
      "Mês 6: 0 feriados\n",
      "Mês 7: 1 feriados\n",
      "Mês 8: 0 feriados\n",
      "Mês 9: 1 feriados\n",
      "Mês 10: 1 feriados\n",
      "Mês 11: 2 feriados\n",
      "Mês 12: 1 feriados\n"
     ]
    }
   ],
   "source": [
    "for mes, quantidade in feriados_por_mes.items():\n",
    "    print(f\"Mês {mes}: {quantidade} feriados\")"
   ]
  },
  {
   "cell_type": "markdown",
   "metadata": {},
   "source": [
    "**3. Quantos feriados em 2024 caem em dias de semana (segunda a sexta-feira)?**"
   ]
  },
  {
   "cell_type": "code",
   "execution_count": 131,
   "metadata": {},
   "outputs": [
    {
     "name": "stdout",
     "output_type": "stream",
     "text": [
      "9\n"
     ]
    }
   ],
   "source": [
    "feriados_semana = 0\n",
    "\n",
    "for public_holiday in public_holidays:\n",
    "    data = datetime.strptime(public_holiday['date'], '%Y-%m-%d')\n",
    "    if data.weekday() < 5:\n",
    "        feriados_semana += 1\n",
    "\n",
    "print(feriados_semana)"
   ]
  },
  {
   "cell_type": "markdown",
   "metadata": {},
   "source": [
    "**4. Qual foi a temperatura média em cada mês?**"
   ]
  },
  {
   "cell_type": "code",
   "execution_count": 132,
   "metadata": {},
   "outputs": [
    {
     "name": "stdout",
     "output_type": "stream",
     "text": [
      "                          date  temperature_2m\n",
      "0    2024-01-01 00:00:00+00:00       24.441999\n",
      "1    2024-01-01 01:00:00+00:00       23.392000\n",
      "2    2024-01-01 02:00:00+00:00       23.392000\n",
      "3    2024-01-01 03:00:00+00:00       23.191999\n",
      "4    2024-01-01 04:00:00+00:00       22.841999\n",
      "...                        ...             ...\n",
      "5131 2024-08-01 19:00:00+00:00       25.292000\n",
      "5132 2024-08-01 20:00:00+00:00       23.642000\n",
      "5133 2024-08-01 21:00:00+00:00       21.792000\n",
      "5134 2024-08-01 22:00:00+00:00       20.642000\n",
      "5135 2024-08-01 23:00:00+00:00       20.142000\n",
      "\n",
      "[5136 rows x 2 columns]\n"
     ]
    }
   ],
   "source": [
    "cache_session = requests_cache.CachedSession('.cache', expire_after = -1)\n",
    "retry_session = retry(cache_session, retries = 5, backoff_factor = 0.2)\n",
    "openmeteo = openmeteo_requests.Client(session = retry_session)\n",
    "\n",
    "url = \"https://archive-api.open-meteo.com/v1/archive\"\n",
    "params = {\n",
    "\t\"latitude\": -22.908333,\n",
    "\t\"longitude\": -43.196388,\n",
    "\t\"start_date\": \"2024-01-01\",\n",
    "\t\"end_date\": \"2024-08-01\",\n",
    "\t\"hourly\": \"temperature_2m\"\n",
    "}\n",
    "\n",
    "responses = openmeteo.weather_api(url, params=params)\n",
    "\n",
    "response = responses[0]\n",
    "\n",
    "latitude = response.Latitude()\n",
    "longitude = response.Longitude()\n",
    "elevation = response.Elevation()\n",
    "timezone = response.Timezone()\n",
    "timezone_abbreviation = response.TimezoneAbbreviation()\n",
    "utc_offset_seconds = response.UtcOffsetSeconds()\n",
    "\n",
    "hourly = response.Hourly()\n",
    "hourly_temperature_2m = hourly.Variables(0).ValuesAsNumpy()\n",
    "\n",
    "hourly_data = {\n",
    "    \"date\": pd.date_range(\n",
    "        start=pd.to_datetime(hourly.Time(), unit=\"s\", utc=True),\n",
    "        end=pd.to_datetime(hourly.TimeEnd(), unit=\"s\", utc=True),\n",
    "        freq=pd.Timedelta(seconds=hourly.Interval()),\n",
    "        inclusive=\"left\"\n",
    "    ),\n",
    "    \"temperature_2m\": hourly_temperature_2m\n",
    "}\n",
    "\n",
    "hourly_dataframe = pd.DataFrame(data=hourly_data)\n",
    "\n",
    "print(hourly_dataframe)"
   ]
  },
  {
   "cell_type": "markdown",
   "metadata": {},
   "source": [
    "- As coordenadas do Rio de Janeiro eu encontrei nesse site: https://www.latlong.net/place/rio-de-janeiro-brazil-27580.html#:~:text=Latitude%20and%20longitude%20coordinates%20are%3A%20%2D22.908333%2C%20%2D43.196388.\n",
    "- O código acima eu encontrei na documentação da API.\n",
    "\n"
   ]
  },
  {
   "cell_type": "code",
   "execution_count": 133,
   "metadata": {},
   "outputs": [
    {
     "name": "stdout",
     "output_type": "stream",
     "text": [
      "                           temperature_2m\n",
      "date                                     \n",
      "2024-01-31 00:00:00+00:00       26.741865\n",
      "2024-02-29 00:00:00+00:00       27.258522\n",
      "2024-03-31 00:00:00+00:00       26.484541\n",
      "2024-04-30 00:00:00+00:00       25.206236\n",
      "2024-05-31 00:00:00+00:00       25.072308\n",
      "2024-06-30 00:00:00+00:00       22.701305\n",
      "2024-07-31 00:00:00+00:00       21.153963\n",
      "2024-08-31 00:00:00+00:00       21.225332\n"
     ]
    }
   ],
   "source": [
    "temperatura_media_mensal = hourly_dataframe.resample('M', on='date').mean()\n",
    "print(temperatura_media_mensal)"
   ]
  },
  {
   "cell_type": "markdown",
   "metadata": {},
   "source": [
    "**5. Qual foi o tempo predominante em cada mês nesse período?**"
   ]
  },
  {
   "cell_type": "code",
   "execution_count": 134,
   "metadata": {},
   "outputs": [
    {
     "name": "stdout",
     "output_type": "stream",
     "text": [
      "['0', '1', '2', '3', '45', '48', '51', '53', '55', '56']\n"
     ]
    }
   ],
   "source": [
    "with open('descriptions/descriptions.json', 'r') as f:\n",
    "    weather_code_description = json.load(f)\n",
    "    \n",
    "print(list(weather_code_description.keys())[:10]) "
   ]
  },
  {
   "cell_type": "code",
   "execution_count": 135,
   "metadata": {},
   "outputs": [
    {
     "name": "stdout",
     "output_type": "stream",
     "text": [
      "                   datetime  weather_code  temperature_2m  month  year  \\\n",
      "0 2024-01-01 00:00:00+00:00           3.0       24.441999      1  2024   \n",
      "1 2024-01-01 01:00:00+00:00           2.0       23.392000      1  2024   \n",
      "2 2024-01-01 02:00:00+00:00           2.0       23.392000      1  2024   \n",
      "3 2024-01-01 03:00:00+00:00           2.0       23.191999      1  2024   \n",
      "4 2024-01-01 04:00:00+00:00           3.0       22.841999      1  2024   \n",
      "\n",
      "  weather_description  \n",
      "0              Cloudy  \n",
      "1       Partly Cloudy  \n",
      "2       Partly Cloudy  \n",
      "3       Partly Cloudy  \n",
      "4              Cloudy  \n"
     ]
    }
   ],
   "source": [
    "params = {\n",
    "    \"latitude\": -22.908333,\n",
    "    \"longitude\": -43.196388,\n",
    "    \"start_date\": \"2024-01-01\",\n",
    "    \"end_date\": \"2024-08-01\",\n",
    "    \"hourly\": \"temperature_2m,weathercode\"\n",
    "}\n",
    "\n",
    "responses = openmeteo.weather_api(url, params=params)\n",
    "response = responses[0]\n",
    "\n",
    "weather_codes = response.Hourly().Variables(1).ValuesAsNumpy() \n",
    "temperatures = response.Hourly().Variables(0).ValuesAsNumpy() \n",
    "dates = pd.date_range(\n",
    "    start=pd.to_datetime(response.Hourly().Time(), unit=\"s\", utc=True),\n",
    "    end=pd.to_datetime(response.Hourly().TimeEnd(), unit=\"s\", utc=True),\n",
    "    freq=pd.Timedelta(seconds=response.Hourly().Interval()),\n",
    "    inclusive=\"left\"\n",
    ")\n",
    "\n",
    "df = pd.DataFrame({\n",
    "    \"datetime\": dates,\n",
    "    \"weather_code\": weather_codes,\n",
    "    \"temperature_2m\": temperatures\n",
    "})\n",
    "\n",
    "df[\"datetime\"] = pd.to_datetime(df[\"datetime\"])\n",
    "df[\"month\"] = df[\"datetime\"].dt.month\n",
    "df[\"year\"] = df[\"datetime\"].dt.year\n",
    "\n",
    "with open('descriptions/descriptions.json', 'r') as f:\n",
    "    weather_code_description = json.load(f)\n",
    "\n",
    "def get_weather_description(code, hour):\n",
    "    code_str = str(int(code))\n",
    "    if code_str in weather_code_description:\n",
    "        if 6 <= hour < 18:\n",
    "            return weather_code_description[code_str][\"day\"][\"description\"]\n",
    "        else:\n",
    "            return weather_code_description[code_str][\"night\"][\"description\"]\n",
    "    else:\n",
    "        print(f\"{code_str} não encontrado\")\n",
    "    return \"Unknown\"\n",
    "\n",
    "df[\"weather_description\"] = df.apply(lambda row: get_weather_description(row[\"weather_code\"], row[\"datetime\"].hour), axis=1)\n",
    "\n",
    "print(df.head())"
   ]
  },
  {
   "cell_type": "code",
   "execution_count": 136,
   "metadata": {},
   "outputs": [
    {
     "name": "stdout",
     "output_type": "stream",
     "text": [
      "year  month\n",
      "2024  1        Mainly Sunny\n",
      "      2        Mainly Sunny\n",
      "      3               Sunny\n",
      "      4               Sunny\n",
      "      5               Sunny\n",
      "      6               Sunny\n",
      "      7               Sunny\n",
      "      8               Sunny\n",
      "Name: weather_code, dtype: object\n"
     ]
    }
   ],
   "source": [
    "monthly_predominant_weather = df.groupby([\"year\", \"month\"])[\"weather_code\"].agg(lambda x: x.mode().iloc[0])\n",
    "monthly_predominant_weather_description = monthly_predominant_weather.map(lambda x: get_weather_description(x, 12))  # Assume o meio do dia para o mês\n",
    "\n",
    "print(monthly_predominant_weather_description)"
   ]
  },
  {
   "cell_type": "markdown",
   "metadata": {},
   "source": [
    "**6. Qual foi o tempo e a temperatura média em cada feriado de 01/01/2024 a 01/08/2024?**"
   ]
  },
  {
   "cell_type": "code",
   "execution_count": 137,
   "metadata": {},
   "outputs": [
    {
     "name": "stdout",
     "output_type": "stream",
     "text": [
      "          data  temperatura_media descricao_tempo\n",
      "0   2024-01-01          24.919083          Cloudy\n",
      "1   2024-02-12          30.246164           Sunny\n",
      "2   2024-02-13          30.616999    Mainly Clear\n",
      "3   2024-03-29          24.908667          Cloudy\n",
      "4   2024-03-31          24.792000           Clear\n",
      "5   2024-04-21          23.102417           Clear\n",
      "6   2024-05-01          28.027418           Clear\n",
      "7   2024-05-30          20.925333          Cloudy\n",
      "8   2024-07-09          21.641998          Cloudy\n",
      "9   2024-09-07                NaN       Sem dados\n",
      "10  2024-10-12                NaN       Sem dados\n",
      "11  2024-11-02                NaN       Sem dados\n",
      "12  2024-11-15                NaN       Sem dados\n",
      "13  2024-12-25                NaN       Sem dados\n"
     ]
    }
   ],
   "source": [
    "datas_feriados = [pd.to_datetime(feriado['date']) for feriado in public_holidays]\n",
    "\n",
    "df_feriados = df[df[\"datetime\"].dt.date.isin([d.date() for d in datas_feriados])]\n",
    "\n",
    "resultados = []\n",
    "for data_feriado in datas_feriados:\n",
    "    data_feriado_str = data_feriado.date()\n",
    "    dados_feriado = df_feriados[df_feriados[\"datetime\"].dt.date == data_feriado_str]\n",
    "    \n",
    "    if not dados_feriado.empty:\n",
    "        temperatura_media = dados_feriado[\"temperature_2m\"].mean()\n",
    "        tempo_predominante = dados_feriado[\"weather_description\"].mode().iloc[0]\n",
    "    else:\n",
    "        temperatura_media = None\n",
    "        tempo_predominante = \"Sem dados\"\n",
    "\n",
    "    resultados.append({\n",
    "        \"data\": data_feriado_str,\n",
    "        \"temperatura_media\": temperatura_media,\n",
    "        \"descricao_tempo\": tempo_predominante\n",
    "    })\n",
    "\n",
    "resultados_df = pd.DataFrame(resultados)\n",
    "\n",
    "print(resultados_df)\n"
   ]
  },
  {
   "cell_type": "markdown",
   "metadata": {},
   "source": [
    "7. Considere as seguintes suposições:\n",
    "\n",
    "- O cidadão carioca considera \"frio\" um dia cuja temperatura média é menor que 20ºC;\n",
    "- Um feriado bem aproveitado no Rio de Janeiro é aquele em que se pode ir à praia;\n",
    "- O cidadão carioca só vai à praia quando não está com frio;\n",
    "- O cidadão carioca também só vai à praia em dias com sol, evitando dias totalmente nublados ou chuvosos (considere weather_code para determinar as condições climáticas).\n",
    "\n",
    "**Houve algum feriado \"não aproveitável\" em 2024? Se sim, qual(is)?**"
   ]
  },
  {
   "cell_type": "code",
   "execution_count": 138,
   "metadata": {},
   "outputs": [],
   "source": [
    "def classificar_feriado(row):\n",
    "    temperatura_abaixo = row[\"temperatura_media\"] < 20 if row[\"temperatura_media\"] is not None else False\n",
    "    descricao_aproveitavel = any(word in row[\"descricao_tempo\"] for word in [\"Sunny\", \"Clear\"])\n",
    "\n",
    "    if temperatura_abaixo or not descricao_aproveitavel:\n",
    "        return \"Não Aproveitável\"\n",
    "    else:\n",
    "        return \"Aproveitável\"\n",
    "\n",
    "resultados_df[\"aproveitavel_ou_nao\"] = resultados_df.apply(classificar_feriado, axis=1)"
   ]
  },
  {
   "cell_type": "code",
   "execution_count": 139,
   "metadata": {},
   "outputs": [
    {
     "data": {
      "text/html": [
       "<div>\n",
       "<style scoped>\n",
       "    .dataframe tbody tr th:only-of-type {\n",
       "        vertical-align: middle;\n",
       "    }\n",
       "\n",
       "    .dataframe tbody tr th {\n",
       "        vertical-align: top;\n",
       "    }\n",
       "\n",
       "    .dataframe thead th {\n",
       "        text-align: right;\n",
       "    }\n",
       "</style>\n",
       "<table border=\"1\" class=\"dataframe\">\n",
       "  <thead>\n",
       "    <tr style=\"text-align: right;\">\n",
       "      <th></th>\n",
       "      <th>data</th>\n",
       "      <th>temperatura_media</th>\n",
       "      <th>descricao_tempo</th>\n",
       "      <th>aproveitavel_ou_nao</th>\n",
       "    </tr>\n",
       "  </thead>\n",
       "  <tbody>\n",
       "    <tr>\n",
       "      <th>0</th>\n",
       "      <td>2024-01-01</td>\n",
       "      <td>24.919083</td>\n",
       "      <td>Cloudy</td>\n",
       "      <td>Não Aproveitável</td>\n",
       "    </tr>\n",
       "    <tr>\n",
       "      <th>1</th>\n",
       "      <td>2024-02-12</td>\n",
       "      <td>30.246164</td>\n",
       "      <td>Sunny</td>\n",
       "      <td>Aproveitável</td>\n",
       "    </tr>\n",
       "    <tr>\n",
       "      <th>2</th>\n",
       "      <td>2024-02-13</td>\n",
       "      <td>30.616999</td>\n",
       "      <td>Mainly Clear</td>\n",
       "      <td>Aproveitável</td>\n",
       "    </tr>\n",
       "    <tr>\n",
       "      <th>3</th>\n",
       "      <td>2024-03-29</td>\n",
       "      <td>24.908667</td>\n",
       "      <td>Cloudy</td>\n",
       "      <td>Não Aproveitável</td>\n",
       "    </tr>\n",
       "    <tr>\n",
       "      <th>4</th>\n",
       "      <td>2024-03-31</td>\n",
       "      <td>24.792000</td>\n",
       "      <td>Clear</td>\n",
       "      <td>Aproveitável</td>\n",
       "    </tr>\n",
       "    <tr>\n",
       "      <th>5</th>\n",
       "      <td>2024-04-21</td>\n",
       "      <td>23.102417</td>\n",
       "      <td>Clear</td>\n",
       "      <td>Aproveitável</td>\n",
       "    </tr>\n",
       "    <tr>\n",
       "      <th>6</th>\n",
       "      <td>2024-05-01</td>\n",
       "      <td>28.027418</td>\n",
       "      <td>Clear</td>\n",
       "      <td>Aproveitável</td>\n",
       "    </tr>\n",
       "    <tr>\n",
       "      <th>7</th>\n",
       "      <td>2024-05-30</td>\n",
       "      <td>20.925333</td>\n",
       "      <td>Cloudy</td>\n",
       "      <td>Não Aproveitável</td>\n",
       "    </tr>\n",
       "    <tr>\n",
       "      <th>8</th>\n",
       "      <td>2024-07-09</td>\n",
       "      <td>21.641998</td>\n",
       "      <td>Cloudy</td>\n",
       "      <td>Não Aproveitável</td>\n",
       "    </tr>\n",
       "    <tr>\n",
       "      <th>9</th>\n",
       "      <td>2024-09-07</td>\n",
       "      <td>NaN</td>\n",
       "      <td>Sem dados</td>\n",
       "      <td>Não Aproveitável</td>\n",
       "    </tr>\n",
       "    <tr>\n",
       "      <th>10</th>\n",
       "      <td>2024-10-12</td>\n",
       "      <td>NaN</td>\n",
       "      <td>Sem dados</td>\n",
       "      <td>Não Aproveitável</td>\n",
       "    </tr>\n",
       "    <tr>\n",
       "      <th>11</th>\n",
       "      <td>2024-11-02</td>\n",
       "      <td>NaN</td>\n",
       "      <td>Sem dados</td>\n",
       "      <td>Não Aproveitável</td>\n",
       "    </tr>\n",
       "    <tr>\n",
       "      <th>12</th>\n",
       "      <td>2024-11-15</td>\n",
       "      <td>NaN</td>\n",
       "      <td>Sem dados</td>\n",
       "      <td>Não Aproveitável</td>\n",
       "    </tr>\n",
       "    <tr>\n",
       "      <th>13</th>\n",
       "      <td>2024-12-25</td>\n",
       "      <td>NaN</td>\n",
       "      <td>Sem dados</td>\n",
       "      <td>Não Aproveitável</td>\n",
       "    </tr>\n",
       "  </tbody>\n",
       "</table>\n",
       "</div>"
      ],
      "text/plain": [
       "          data  temperatura_media descricao_tempo aproveitavel_ou_nao\n",
       "0   2024-01-01          24.919083          Cloudy    Não Aproveitável\n",
       "1   2024-02-12          30.246164           Sunny        Aproveitável\n",
       "2   2024-02-13          30.616999    Mainly Clear        Aproveitável\n",
       "3   2024-03-29          24.908667          Cloudy    Não Aproveitável\n",
       "4   2024-03-31          24.792000           Clear        Aproveitável\n",
       "5   2024-04-21          23.102417           Clear        Aproveitável\n",
       "6   2024-05-01          28.027418           Clear        Aproveitável\n",
       "7   2024-05-30          20.925333          Cloudy    Não Aproveitável\n",
       "8   2024-07-09          21.641998          Cloudy    Não Aproveitável\n",
       "9   2024-09-07                NaN       Sem dados    Não Aproveitável\n",
       "10  2024-10-12                NaN       Sem dados    Não Aproveitável\n",
       "11  2024-11-02                NaN       Sem dados    Não Aproveitável\n",
       "12  2024-11-15                NaN       Sem dados    Não Aproveitável\n",
       "13  2024-12-25                NaN       Sem dados    Não Aproveitável"
      ]
     },
     "execution_count": 139,
     "metadata": {},
     "output_type": "execute_result"
    }
   ],
   "source": [
    "resultados_df"
   ]
  },
  {
   "cell_type": "markdown",
   "metadata": {},
   "source": [
    "Os feriados do dia 1/1, 29/3, 30/5 e 9/7 não foram aproveitáveis, os outros sim."
   ]
  },
  {
   "cell_type": "markdown",
   "metadata": {},
   "source": [
    "**8. Qual foi o feriado \"mais aproveitável\" de 2024?**"
   ]
  },
  {
   "cell_type": "markdown",
   "metadata": {},
   "source": [
    "O feriado \"mais aproveitável\" foi o do dia 12/2, pois, além de estar ensolarado, a temperatura média foi de 30 graus."
   ]
  }
 ],
 "metadata": {
  "kernelspec": {
   "display_name": "Python 3",
   "language": "python",
   "name": "python3"
  },
  "language_info": {
   "codemirror_mode": {
    "name": "ipython",
    "version": 3
   },
   "file_extension": ".py",
   "mimetype": "text/x-python",
   "name": "python",
   "nbconvert_exporter": "python",
   "pygments_lexer": "ipython3",
   "version": "3.12.1"
  }
 },
 "nbformat": 4,
 "nbformat_minor": 2
}
