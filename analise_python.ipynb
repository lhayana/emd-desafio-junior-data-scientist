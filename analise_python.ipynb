{
  "cells": [
    {
      "cell_type": "markdown",
      "metadata": {
        "id": "melyS4MqY2Si"
      },
      "source": [
        "# Setup\n",
        "Instalando e importando principais bibliotecas"
      ]
    },
    {
      "cell_type": "code",
      "execution_count": 94,
      "metadata": {
        "id": "gxRSpU8bYPEh"
      },
      "outputs": [],
      "source": [
        "# pip install basedosdados"
      ]
    },
    {
      "cell_type": "code",
      "execution_count": 95,
      "metadata": {
        "id": "Mmk9ZxmBX3LU"
      },
      "outputs": [],
      "source": [
        "import basedosdados as bd\n",
        "import pandas as pd"
      ]
    },
    {
      "cell_type": "code",
      "execution_count": 96,
      "metadata": {
        "id": "-Sx1Y-2rZVwp"
      },
      "outputs": [],
      "source": [
        "billing_project_id = \"curso-bigquery-361218\""
      ]
    },
    {
      "cell_type": "markdown",
      "metadata": {
        "id": "ChZM3aVjZPTj"
      },
      "source": [
        "# Resolvendo as questões"
      ]
    },
    {
      "cell_type": "markdown",
      "metadata": {
        "id": "OoY3NAGZZmZo"
      },
      "source": [
        "### 1. Quantos chamados foram abertos no dia 01/04/2023?"
      ]
    },
    {
      "cell_type": "code",
      "execution_count": 97,
      "metadata": {
        "colab": {
          "base_uri": "https://localhost:8080/"
        },
        "id": "zitmm4H6YKiT",
        "outputId": "b1f4615b-7f4f-4baf-d204-26a5c3a73de9"
      },
      "outputs": [
        {
          "name": "stderr",
          "output_type": "stream",
          "text": [
            "Downloading: 100%|██████████| 1756/1756 [00:00<00:00, 2001.84rows/s]\n"
          ]
        }
      ],
      "source": [
        "query = \"SELECT * FROM `datario.adm_central_atendimento_1746.chamado` WHERE DATE(data_inicio) = '2023-04-01'\"\n",
        "df = bd.read_sql(query, billing_project_id=billing_project_id)"
      ]
    },
    {
      "cell_type": "markdown",
      "metadata": {
        "id": "s2A6YgqiauzK"
      },
      "source": [
        "Se eu carregasse o dataframe inteiro sem o WHERE, faria o filtro assim com pandas:"
      ]
    },
    {
      "cell_type": "code",
      "execution_count": 98,
      "metadata": {
        "id": "TfnWF34RYaLA"
      },
      "outputs": [],
      "source": [
        "# df['data_inicio'] = pd.to_datetime(df['data_inicio'])\n",
        "# df_filtrado = df[df['data_inicio'] == '2023-04-01']\n",
        "# print(df_filtrado)"
      ]
    },
    {
      "cell_type": "markdown",
      "metadata": {
        "id": "4xa1wS7ia0-3"
      },
      "source": [
        "Mas demoraria muito para carregar, além de poder ser custoso financeiramente."
      ]
    },
    {
      "cell_type": "code",
      "execution_count": 99,
      "metadata": {
        "colab": {
          "base_uri": "https://localhost:8080/"
        },
        "id": "vpYa2im_aq9r",
        "outputId": "c3980bb7-707e-4630-8573-89757569fdc9"
      },
      "outputs": [
        {
          "name": "stdout",
          "output_type": "stream",
          "text": [
            "Foram abertos 1756 chamados no dia 01/04/2023.\n"
          ]
        }
      ],
      "source": [
        "# Resposta\n",
        "print(f\"Foram abertos {df['id_chamado'].nunique()} chamados no dia 01/04/2023.\")"
      ]
    },
    {
      "cell_type": "markdown",
      "metadata": {
        "id": "zbAIcMYdbajq"
      },
      "source": [
        "### 2. Qual o tipo de chamado que teve mais teve chamados abertos no dia 01/04/2023?"
      ]
    },
    {
      "cell_type": "code",
      "execution_count": 100,
      "metadata": {
        "colab": {
          "base_uri": "https://localhost:8080/"
        },
        "id": "KveibFU4bcrG",
        "outputId": "67c5e8ca-2b97-43aa-d15a-174137c3c149"
      },
      "outputs": [
        {
          "name": "stdout",
          "output_type": "stream",
          "text": [
            "O tipo de chamado com mais ocorrências em 01/04/2023 foi 'Estacionamento irregular' com 366 chamados.\n"
          ]
        }
      ],
      "source": [
        "tipo_chamados = df['tipo'].value_counts()\n",
        "\n",
        "print(f\"O tipo de chamado com mais ocorrências em 01/04/2023 foi '{tipo_chamados.idxmax()}' com {tipo_chamados.max()} chamados.\")"
      ]
    },
    {
      "cell_type": "markdown",
      "metadata": {
        "id": "QrXvn9tJcDJU"
      },
      "source": [
        "### 3. Quais os nomes dos 3 bairros que mais tiveram chamados abertos nesse dia?"
      ]
    },
    {
      "cell_type": "code",
      "execution_count": 101,
      "metadata": {
        "id": "FcypmfmwcGuK"
      },
      "outputs": [],
      "source": [
        "df_chamado = df"
      ]
    },
    {
      "cell_type": "code",
      "execution_count": 102,
      "metadata": {
        "colab": {
          "base_uri": "https://localhost:8080/"
        },
        "id": "WSKpPT23cwM5",
        "outputId": "829f6dcb-5f39-478b-f6b7-bbf6b82f3b26"
      },
      "outputs": [
        {
          "name": "stderr",
          "output_type": "stream",
          "text": [
            "Downloading: 100%|██████████| 164/164 [00:03<00:00, 46.16rows/s]\n"
          ]
        }
      ],
      "source": [
        "query_bairro = \"\"\"SELECT * FROM `datario.dados_mestres.bairro`\"\"\"\n",
        "df_bairro = bd.read_sql(query_bairro, billing_project_id=billing_project_id)"
      ]
    },
    {
      "cell_type": "code",
      "execution_count": 103,
      "metadata": {
        "id": "Ow9qP-emc67b"
      },
      "outputs": [],
      "source": [
        "df_merged = pd.merge(df_chamado, df_bairro, how='left', left_on='id_bairro', right_on='id_bairro')"
      ]
    },
    {
      "cell_type": "code",
      "execution_count": 104,
      "metadata": {
        "colab": {
          "base_uri": "https://localhost:8080/"
        },
        "id": "7V4xBn-Tdzfg",
        "outputId": "72876d38-a9ff-4bc3-8cff-5e428e4f1a62"
      },
      "outputs": [
        {
          "data": {
            "text/plain": [
              "Index(['id_chamado', 'id_origem_ocorrencia', 'data_inicio', 'data_fim',\n",
              "       'id_bairro', 'id_territorialidade', 'id_logradouro',\n",
              "       'numero_logradouro', 'id_unidade_organizacional',\n",
              "       'nome_unidade_organizacional', 'id_unidade_organizacional_mae',\n",
              "       'unidade_organizacional_ouvidoria', 'categoria', 'id_tipo', 'tipo',\n",
              "       'id_subtipo', 'subtipo', 'status', 'longitude', 'latitude',\n",
              "       'data_alvo_finalizacao', 'data_alvo_diagnostico',\n",
              "       'data_real_diagnostico', 'tempo_prazo', 'prazo_unidade', 'prazo_tipo',\n",
              "       'dentro_prazo', 'situacao', 'tipo_situacao', 'justificativa_status',\n",
              "       'reclamacoes', 'data_particao', 'nome', 'id_area_planejamento',\n",
              "       'id_regiao_planejamento', 'nome_regiao_planejamento',\n",
              "       'id_regiao_administrativa', 'nome_regiao_administrativa',\n",
              "       'subprefeitura', 'area', 'perimetro', 'geometry_wkt', 'geometry'],\n",
              "      dtype='object')"
            ]
          },
          "execution_count": 104,
          "metadata": {},
          "output_type": "execute_result"
        }
      ],
      "source": [
        "df_merged.columns"
      ]
    },
    {
      "cell_type": "code",
      "execution_count": 105,
      "metadata": {
        "id": "3KZJAOFRdkmz"
      },
      "outputs": [],
      "source": [
        "df_merged['nome'].fillna('Bairro Desconhecido', inplace=True)"
      ]
    },
    {
      "cell_type": "code",
      "execution_count": 106,
      "metadata": {
        "id": "FV3EcqFVc-SH"
      },
      "outputs": [],
      "source": [
        "df_grouped = df_merged.groupby('nome')['id_chamado'].count().reset_index()"
      ]
    },
    {
      "cell_type": "code",
      "execution_count": 107,
      "metadata": {
        "colab": {
          "base_uri": "https://localhost:8080/",
          "height": 423
        },
        "id": "7jlzbYQIdPeE",
        "outputId": "78ff6b4d-d352-45d6-8607-3aefc423bffc"
      },
      "outputs": [
        {
          "data": {
            "application/vnd.google.colaboratory.intrinsic+json": {
              "summary": "{\n  \"name\": \"df_grouped\",\n  \"rows\": 146,\n  \"fields\": [\n    {\n      \"column\": \"nome\",\n      \"properties\": {\n        \"dtype\": \"string\",\n        \"num_unique_values\": 146,\n        \"samples\": [\n          \"Flamengo\",\n          \"Piedade\",\n          \"Cidade de Deus\"\n        ],\n        \"semantic_type\": \"\",\n        \"description\": \"\"\n      }\n    },\n    {\n      \"column\": \"id_chamado\",\n      \"properties\": {\n        \"dtype\": \"number\",\n        \"std\": 15,\n        \"min\": 1,\n        \"max\": 113,\n        \"num_unique_values\": 35,\n        \"samples\": [\n          17,\n          9,\n          15\n        ],\n        \"semantic_type\": \"\",\n        \"description\": \"\"\n      }\n    }\n  ]\n}",
              "type": "dataframe",
              "variable_name": "df_grouped"
            },
            "text/html": [
              "\n",
              "  <div id=\"df-2c41c1e9-e330-4608-9a6d-d3d636f18ced\" class=\"colab-df-container\">\n",
              "    <div>\n",
              "<style scoped>\n",
              "    .dataframe tbody tr th:only-of-type {\n",
              "        vertical-align: middle;\n",
              "    }\n",
              "\n",
              "    .dataframe tbody tr th {\n",
              "        vertical-align: top;\n",
              "    }\n",
              "\n",
              "    .dataframe thead th {\n",
              "        text-align: right;\n",
              "    }\n",
              "</style>\n",
              "<table border=\"1\" class=\"dataframe\">\n",
              "  <thead>\n",
              "    <tr style=\"text-align: right;\">\n",
              "      <th></th>\n",
              "      <th>nome</th>\n",
              "      <th>id_chamado</th>\n",
              "    </tr>\n",
              "  </thead>\n",
              "  <tbody>\n",
              "    <tr>\n",
              "      <th>0</th>\n",
              "      <td>Abolição</td>\n",
              "      <td>5</td>\n",
              "    </tr>\n",
              "    <tr>\n",
              "      <th>1</th>\n",
              "      <td>Acari</td>\n",
              "      <td>1</td>\n",
              "    </tr>\n",
              "    <tr>\n",
              "      <th>2</th>\n",
              "      <td>Alto da Boa Vista</td>\n",
              "      <td>3</td>\n",
              "    </tr>\n",
              "    <tr>\n",
              "      <th>3</th>\n",
              "      <td>Anchieta</td>\n",
              "      <td>11</td>\n",
              "    </tr>\n",
              "    <tr>\n",
              "      <th>4</th>\n",
              "      <td>Andaraí</td>\n",
              "      <td>10</td>\n",
              "    </tr>\n",
              "    <tr>\n",
              "      <th>...</th>\n",
              "      <td>...</td>\n",
              "      <td>...</td>\n",
              "    </tr>\n",
              "    <tr>\n",
              "      <th>141</th>\n",
              "      <td>Vila Kosmos</td>\n",
              "      <td>5</td>\n",
              "    </tr>\n",
              "    <tr>\n",
              "      <th>142</th>\n",
              "      <td>Vila Militar</td>\n",
              "      <td>3</td>\n",
              "    </tr>\n",
              "    <tr>\n",
              "      <th>143</th>\n",
              "      <td>Vila Valqueire</td>\n",
              "      <td>17</td>\n",
              "    </tr>\n",
              "    <tr>\n",
              "      <th>144</th>\n",
              "      <td>Vila da Penha</td>\n",
              "      <td>19</td>\n",
              "    </tr>\n",
              "    <tr>\n",
              "      <th>145</th>\n",
              "      <td>Vista Alegre</td>\n",
              "      <td>11</td>\n",
              "    </tr>\n",
              "  </tbody>\n",
              "</table>\n",
              "<p>146 rows × 2 columns</p>\n",
              "</div>\n",
              "    <div class=\"colab-df-buttons\">\n",
              "      \n",
              "  <div class=\"colab-df-container\">\n",
              "    <button class=\"colab-df-convert\" onclick=\"convertToInteractive('df-2c41c1e9-e330-4608-9a6d-d3d636f18ced')\"\n",
              "            title=\"Convert this dataframe to an interactive table.\"\n",
              "            style=\"display:none;\">\n",
              "      \n",
              "  <svg xmlns=\"http://www.w3.org/2000/svg\" height=\"24px\" viewBox=\"0 -960 960 960\">\n",
              "    <path d=\"M120-120v-720h720v720H120Zm60-500h600v-160H180v160Zm220 220h160v-160H400v160Zm0 220h160v-160H400v160ZM180-400h160v-160H180v160Zm440 0h160v-160H620v160ZM180-180h160v-160H180v160Zm440 0h160v-160H620v160Z\"/>\n",
              "  </svg>\n",
              "    </button>\n",
              "    \n",
              "  <style>\n",
              "    .colab-df-container {\n",
              "      display:flex;\n",
              "      gap: 12px;\n",
              "    }\n",
              "\n",
              "    .colab-df-convert {\n",
              "      background-color: #E8F0FE;\n",
              "      border: none;\n",
              "      border-radius: 50%;\n",
              "      cursor: pointer;\n",
              "      display: none;\n",
              "      fill: #1967D2;\n",
              "      height: 32px;\n",
              "      padding: 0 0 0 0;\n",
              "      width: 32px;\n",
              "    }\n",
              "\n",
              "    .colab-df-convert:hover {\n",
              "      background-color: #E2EBFA;\n",
              "      box-shadow: 0px 1px 2px rgba(60, 64, 67, 0.3), 0px 1px 3px 1px rgba(60, 64, 67, 0.15);\n",
              "      fill: #174EA6;\n",
              "    }\n",
              "\n",
              "    .colab-df-buttons div {\n",
              "      margin-bottom: 4px;\n",
              "    }\n",
              "\n",
              "    [theme=dark] .colab-df-convert {\n",
              "      background-color: #3B4455;\n",
              "      fill: #D2E3FC;\n",
              "    }\n",
              "\n",
              "    [theme=dark] .colab-df-convert:hover {\n",
              "      background-color: #434B5C;\n",
              "      box-shadow: 0px 1px 3px 1px rgba(0, 0, 0, 0.15);\n",
              "      filter: drop-shadow(0px 1px 2px rgba(0, 0, 0, 0.3));\n",
              "      fill: #FFFFFF;\n",
              "    }\n",
              "  </style>\n",
              "\n",
              "    <script>\n",
              "      const buttonEl =\n",
              "        document.querySelector('#df-2c41c1e9-e330-4608-9a6d-d3d636f18ced button.colab-df-convert');\n",
              "      buttonEl.style.display =\n",
              "        google.colab.kernel.accessAllowed ? 'block' : 'none';\n",
              "\n",
              "      async function convertToInteractive(key) {\n",
              "        const element = document.querySelector('#df-2c41c1e9-e330-4608-9a6d-d3d636f18ced');\n",
              "        const dataTable =\n",
              "          await google.colab.kernel.invokeFunction('convertToInteractive',\n",
              "                                                    [key], {});\n",
              "        if (!dataTable) return;\n",
              "\n",
              "        const docLinkHtml = 'Like what you see? Visit the ' +\n",
              "          '<a target=\"_blank\" href=https://colab.research.google.com/notebooks/data_table.ipynb>data table notebook</a>'\n",
              "          + ' to learn more about interactive tables.';\n",
              "        element.innerHTML = '';\n",
              "        dataTable['output_type'] = 'display_data';\n",
              "        await google.colab.output.renderOutput(dataTable, element);\n",
              "        const docLink = document.createElement('div');\n",
              "        docLink.innerHTML = docLinkHtml;\n",
              "        element.appendChild(docLink);\n",
              "      }\n",
              "    </script>\n",
              "  </div>\n",
              "  \n",
              "    </div>\n",
              "  </div>\n",
              "  "
            ],
            "text/plain": [
              "                  nome  id_chamado\n",
              "0             Abolição           5\n",
              "1                Acari           1\n",
              "2    Alto da Boa Vista           3\n",
              "3             Anchieta          11\n",
              "4              Andaraí          10\n",
              "..                 ...         ...\n",
              "141        Vila Kosmos           5\n",
              "142       Vila Militar           3\n",
              "143     Vila Valqueire          17\n",
              "144      Vila da Penha          19\n",
              "145       Vista Alegre          11\n",
              "\n",
              "[146 rows x 2 columns]"
            ]
          },
          "execution_count": 107,
          "metadata": {},
          "output_type": "execute_result"
        }
      ],
      "source": [
        "df_grouped"
      ]
    },
    {
      "cell_type": "code",
      "execution_count": 108,
      "metadata": {
        "id": "Z0iIUGlEdAnv"
      },
      "outputs": [],
      "source": [
        "df_grouped.rename(columns={'id_chamado': 'chamados'}, inplace=True)"
      ]
    },
    {
      "cell_type": "code",
      "execution_count": 109,
      "metadata": {
        "colab": {
          "base_uri": "https://localhost:8080/"
        },
        "id": "cDul5myYdCnp",
        "outputId": "b587e7a4-8acc-44df-b811-1eb0ab309b25"
      },
      "outputs": [
        {
          "name": "stdout",
          "output_type": "stream",
          "text": [
            "                    nome  chamados\n",
            "20          Campo Grande       113\n",
            "128               Tijuca        89\n",
            "6    Bairro Desconhecido        73\n"
          ]
        }
      ],
      "source": [
        "top3_bairros = df_grouped.sort_values(by='chamados', ascending=False).head(3)\n",
        "print(top3_bairros)"
      ]
    },
    {
      "cell_type": "markdown",
      "metadata": {
        "id": "boQNSr3yd5w0"
      },
      "source": [
        "### 4. Qual o nome da subprefeitura com mais chamados abertos nesse dia?"
      ]
    },
    {
      "cell_type": "code",
      "execution_count": 110,
      "metadata": {
        "id": "4aejd8YLd_uZ"
      },
      "outputs": [],
      "source": [
        "df_grouped = df_merged.groupby('subprefeitura')['id_chamado'].count().reset_index()\n",
        "df_grouped.rename(columns={'id_chamado': 'chamados'}, inplace=True)\n",
        "subprefeitura_mais_chamados = df_grouped.loc[df_grouped['chamados'].idxmax()]"
      ]
    },
    {
      "cell_type": "code",
      "execution_count": 111,
      "metadata": {
        "colab": {
          "base_uri": "https://localhost:8080/"
        },
        "id": "kE1B9FqYeGjV",
        "outputId": "0958dc3e-a7b6-45b6-cc0c-037f7d3eb387"
      },
      "outputs": [
        {
          "name": "stdout",
          "output_type": "stream",
          "text": [
            "A subprefeitura com mais chamados abertos em 01/04/2023 foi 'Zona Norte' com 510 chamados.\n"
          ]
        }
      ],
      "source": [
        "print(f\"A subprefeitura com mais chamados abertos em 01/04/2023 foi '{subprefeitura_mais_chamados['subprefeitura']}' com {subprefeitura_mais_chamados['chamados']} chamados.\")"
      ]
    },
    {
      "cell_type": "markdown",
      "metadata": {
        "id": "9PY2usiOeOpP"
      },
      "source": [
        "### 5. Existe algum chamado aberto nesse dia que não foi associado a um bairro ou subprefeitura na tabela de bairros? Se sim, por que isso acontece?"
      ]
    },
    {
      "cell_type": "code",
      "execution_count": 112,
      "metadata": {
        "colab": {
          "base_uri": "https://localhost:8080/"
        },
        "id": "Joz_iUCReOE9",
        "outputId": "ed4013ff-96e6-4069-a727-299a02171b02"
      },
      "outputs": [
        {
          "name": "stdout",
          "output_type": "stream",
          "text": [
            "                  nome  chamados\n",
            "6  Bairro Desconhecido        73\n"
          ]
        }
      ],
      "source": [
        "print(top3_bairros[top3_bairros['nome']=='Bairro Desconhecido'])"
      ]
    },
    {
      "cell_type": "code",
      "execution_count": 113,
      "metadata": {
        "colab": {
          "base_uri": "https://localhost:8080/",
          "height": 429
        },
        "id": "6yh0EJr2etYA",
        "outputId": "34ef87b6-f0e4-4def-8298-44a32dda8d40"
      },
      "outputs": [
        {
          "data": {
            "application/vnd.google.colaboratory.intrinsic+json": {
              "type": "dataframe"
            },
            "text/html": [
              "\n",
              "  <div id=\"df-92b2da38-a97e-4ce0-8556-19a5ea57e71e\" class=\"colab-df-container\">\n",
              "    <div>\n",
              "<style scoped>\n",
              "    .dataframe tbody tr th:only-of-type {\n",
              "        vertical-align: middle;\n",
              "    }\n",
              "\n",
              "    .dataframe tbody tr th {\n",
              "        vertical-align: top;\n",
              "    }\n",
              "\n",
              "    .dataframe thead th {\n",
              "        text-align: right;\n",
              "    }\n",
              "</style>\n",
              "<table border=\"1\" class=\"dataframe\">\n",
              "  <thead>\n",
              "    <tr style=\"text-align: right;\">\n",
              "      <th></th>\n",
              "      <th>id_chamado</th>\n",
              "      <th>id_origem_ocorrencia</th>\n",
              "      <th>data_inicio</th>\n",
              "      <th>data_fim</th>\n",
              "      <th>id_bairro</th>\n",
              "      <th>id_territorialidade</th>\n",
              "      <th>id_logradouro</th>\n",
              "      <th>numero_logradouro</th>\n",
              "      <th>id_unidade_organizacional</th>\n",
              "      <th>nome_unidade_organizacional</th>\n",
              "      <th>...</th>\n",
              "      <th>id_area_planejamento</th>\n",
              "      <th>id_regiao_planejamento</th>\n",
              "      <th>nome_regiao_planejamento</th>\n",
              "      <th>id_regiao_administrativa</th>\n",
              "      <th>nome_regiao_administrativa</th>\n",
              "      <th>subprefeitura</th>\n",
              "      <th>area</th>\n",
              "      <th>perimetro</th>\n",
              "      <th>geometry_wkt</th>\n",
              "      <th>geometry</th>\n",
              "    </tr>\n",
              "  </thead>\n",
              "  <tbody>\n",
              "    <tr>\n",
              "      <th>0</th>\n",
              "      <td>18517502</td>\n",
              "      <td>1</td>\n",
              "      <td>2023-04-01 14:34:27</td>\n",
              "      <td>2023-04-01 14:34:27</td>\n",
              "      <td>None</td>\n",
              "      <td>None</td>\n",
              "      <td>None</td>\n",
              "      <td>&lt;NA&gt;</td>\n",
              "      <td>1706</td>\n",
              "      <td>TR/SUBTT/CGLF/CFV - Coordenadoria de Fiscaliza...</td>\n",
              "      <td>...</td>\n",
              "      <td>NaN</td>\n",
              "      <td>NaN</td>\n",
              "      <td>NaN</td>\n",
              "      <td>NaN</td>\n",
              "      <td>NaN</td>\n",
              "      <td>NaN</td>\n",
              "      <td>NaN</td>\n",
              "      <td>NaN</td>\n",
              "      <td>NaN</td>\n",
              "      <td>NaN</td>\n",
              "    </tr>\n",
              "    <tr>\n",
              "      <th>1</th>\n",
              "      <td>18517225</td>\n",
              "      <td>17</td>\n",
              "      <td>2023-04-01 12:44:24</td>\n",
              "      <td>2023-04-01 12:44:24</td>\n",
              "      <td>None</td>\n",
              "      <td>None</td>\n",
              "      <td>None</td>\n",
              "      <td>&lt;NA&gt;</td>\n",
              "      <td>1706</td>\n",
              "      <td>TR/SUBTT/CGLF/CFV - Coordenadoria de Fiscaliza...</td>\n",
              "      <td>...</td>\n",
              "      <td>NaN</td>\n",
              "      <td>NaN</td>\n",
              "      <td>NaN</td>\n",
              "      <td>NaN</td>\n",
              "      <td>NaN</td>\n",
              "      <td>NaN</td>\n",
              "      <td>NaN</td>\n",
              "      <td>NaN</td>\n",
              "      <td>NaN</td>\n",
              "      <td>NaN</td>\n",
              "    </tr>\n",
              "    <tr>\n",
              "      <th>2</th>\n",
              "      <td>18517329</td>\n",
              "      <td>17</td>\n",
              "      <td>2023-04-01 13:24:56</td>\n",
              "      <td>2023-04-01 13:24:56</td>\n",
              "      <td>None</td>\n",
              "      <td>None</td>\n",
              "      <td>None</td>\n",
              "      <td>&lt;NA&gt;</td>\n",
              "      <td>1706</td>\n",
              "      <td>TR/SUBTT/CGLF/CFV - Coordenadoria de Fiscaliza...</td>\n",
              "      <td>...</td>\n",
              "      <td>NaN</td>\n",
              "      <td>NaN</td>\n",
              "      <td>NaN</td>\n",
              "      <td>NaN</td>\n",
              "      <td>NaN</td>\n",
              "      <td>NaN</td>\n",
              "      <td>NaN</td>\n",
              "      <td>NaN</td>\n",
              "      <td>NaN</td>\n",
              "      <td>NaN</td>\n",
              "    </tr>\n",
              "    <tr>\n",
              "      <th>3</th>\n",
              "      <td>18516324</td>\n",
              "      <td>17</td>\n",
              "      <td>2023-04-01 06:56:54</td>\n",
              "      <td>2023-04-01 06:56:54</td>\n",
              "      <td>None</td>\n",
              "      <td>None</td>\n",
              "      <td>None</td>\n",
              "      <td>&lt;NA&gt;</td>\n",
              "      <td>1706</td>\n",
              "      <td>TR/SUBTT/CGLF/CFV - Coordenadoria de Fiscaliza...</td>\n",
              "      <td>...</td>\n",
              "      <td>NaN</td>\n",
              "      <td>NaN</td>\n",
              "      <td>NaN</td>\n",
              "      <td>NaN</td>\n",
              "      <td>NaN</td>\n",
              "      <td>NaN</td>\n",
              "      <td>NaN</td>\n",
              "      <td>NaN</td>\n",
              "      <td>NaN</td>\n",
              "      <td>NaN</td>\n",
              "    </tr>\n",
              "    <tr>\n",
              "      <th>4</th>\n",
              "      <td>18516946</td>\n",
              "      <td>17</td>\n",
              "      <td>2023-04-01 11:13:02</td>\n",
              "      <td>2023-04-01 11:13:02</td>\n",
              "      <td>None</td>\n",
              "      <td>None</td>\n",
              "      <td>None</td>\n",
              "      <td>&lt;NA&gt;</td>\n",
              "      <td>1706</td>\n",
              "      <td>TR/SUBTT/CGLF/CFV - Coordenadoria de Fiscaliza...</td>\n",
              "      <td>...</td>\n",
              "      <td>NaN</td>\n",
              "      <td>NaN</td>\n",
              "      <td>NaN</td>\n",
              "      <td>NaN</td>\n",
              "      <td>NaN</td>\n",
              "      <td>NaN</td>\n",
              "      <td>NaN</td>\n",
              "      <td>NaN</td>\n",
              "      <td>NaN</td>\n",
              "      <td>NaN</td>\n",
              "    </tr>\n",
              "  </tbody>\n",
              "</table>\n",
              "<p>5 rows × 43 columns</p>\n",
              "</div>\n",
              "    <div class=\"colab-df-buttons\">\n",
              "      \n",
              "  <div class=\"colab-df-container\">\n",
              "    <button class=\"colab-df-convert\" onclick=\"convertToInteractive('df-92b2da38-a97e-4ce0-8556-19a5ea57e71e')\"\n",
              "            title=\"Convert this dataframe to an interactive table.\"\n",
              "            style=\"display:none;\">\n",
              "      \n",
              "  <svg xmlns=\"http://www.w3.org/2000/svg\" height=\"24px\" viewBox=\"0 -960 960 960\">\n",
              "    <path d=\"M120-120v-720h720v720H120Zm60-500h600v-160H180v160Zm220 220h160v-160H400v160Zm0 220h160v-160H400v160ZM180-400h160v-160H180v160Zm440 0h160v-160H620v160ZM180-180h160v-160H180v160Zm440 0h160v-160H620v160Z\"/>\n",
              "  </svg>\n",
              "    </button>\n",
              "    \n",
              "  <style>\n",
              "    .colab-df-container {\n",
              "      display:flex;\n",
              "      gap: 12px;\n",
              "    }\n",
              "\n",
              "    .colab-df-convert {\n",
              "      background-color: #E8F0FE;\n",
              "      border: none;\n",
              "      border-radius: 50%;\n",
              "      cursor: pointer;\n",
              "      display: none;\n",
              "      fill: #1967D2;\n",
              "      height: 32px;\n",
              "      padding: 0 0 0 0;\n",
              "      width: 32px;\n",
              "    }\n",
              "\n",
              "    .colab-df-convert:hover {\n",
              "      background-color: #E2EBFA;\n",
              "      box-shadow: 0px 1px 2px rgba(60, 64, 67, 0.3), 0px 1px 3px 1px rgba(60, 64, 67, 0.15);\n",
              "      fill: #174EA6;\n",
              "    }\n",
              "\n",
              "    .colab-df-buttons div {\n",
              "      margin-bottom: 4px;\n",
              "    }\n",
              "\n",
              "    [theme=dark] .colab-df-convert {\n",
              "      background-color: #3B4455;\n",
              "      fill: #D2E3FC;\n",
              "    }\n",
              "\n",
              "    [theme=dark] .colab-df-convert:hover {\n",
              "      background-color: #434B5C;\n",
              "      box-shadow: 0px 1px 3px 1px rgba(0, 0, 0, 0.15);\n",
              "      filter: drop-shadow(0px 1px 2px rgba(0, 0, 0, 0.3));\n",
              "      fill: #FFFFFF;\n",
              "    }\n",
              "  </style>\n",
              "\n",
              "    <script>\n",
              "      const buttonEl =\n",
              "        document.querySelector('#df-92b2da38-a97e-4ce0-8556-19a5ea57e71e button.colab-df-convert');\n",
              "      buttonEl.style.display =\n",
              "        google.colab.kernel.accessAllowed ? 'block' : 'none';\n",
              "\n",
              "      async function convertToInteractive(key) {\n",
              "        const element = document.querySelector('#df-92b2da38-a97e-4ce0-8556-19a5ea57e71e');\n",
              "        const dataTable =\n",
              "          await google.colab.kernel.invokeFunction('convertToInteractive',\n",
              "                                                    [key], {});\n",
              "        if (!dataTable) return;\n",
              "\n",
              "        const docLinkHtml = 'Like what you see? Visit the ' +\n",
              "          '<a target=\"_blank\" href=https://colab.research.google.com/notebooks/data_table.ipynb>data table notebook</a>'\n",
              "          + ' to learn more about interactive tables.';\n",
              "        element.innerHTML = '';\n",
              "        dataTable['output_type'] = 'display_data';\n",
              "        await google.colab.output.renderOutput(dataTable, element);\n",
              "        const docLink = document.createElement('div');\n",
              "        docLink.innerHTML = docLinkHtml;\n",
              "        element.appendChild(docLink);\n",
              "      }\n",
              "    </script>\n",
              "  </div>\n",
              "  \n",
              "    </div>\n",
              "  </div>\n",
              "  "
            ],
            "text/plain": [
              "  id_chamado id_origem_ocorrencia         data_inicio            data_fim  \\\n",
              "0   18517502                    1 2023-04-01 14:34:27 2023-04-01 14:34:27   \n",
              "1   18517225                   17 2023-04-01 12:44:24 2023-04-01 12:44:24   \n",
              "2   18517329                   17 2023-04-01 13:24:56 2023-04-01 13:24:56   \n",
              "3   18516324                   17 2023-04-01 06:56:54 2023-04-01 06:56:54   \n",
              "4   18516946                   17 2023-04-01 11:13:02 2023-04-01 11:13:02   \n",
              "\n",
              "  id_bairro id_territorialidade id_logradouro  numero_logradouro  \\\n",
              "0      None                None          None               <NA>   \n",
              "1      None                None          None               <NA>   \n",
              "2      None                None          None               <NA>   \n",
              "3      None                None          None               <NA>   \n",
              "4      None                None          None               <NA>   \n",
              "\n",
              "  id_unidade_organizacional  \\\n",
              "0                      1706   \n",
              "1                      1706   \n",
              "2                      1706   \n",
              "3                      1706   \n",
              "4                      1706   \n",
              "\n",
              "                         nome_unidade_organizacional  ...  \\\n",
              "0  TR/SUBTT/CGLF/CFV - Coordenadoria de Fiscaliza...  ...   \n",
              "1  TR/SUBTT/CGLF/CFV - Coordenadoria de Fiscaliza...  ...   \n",
              "2  TR/SUBTT/CGLF/CFV - Coordenadoria de Fiscaliza...  ...   \n",
              "3  TR/SUBTT/CGLF/CFV - Coordenadoria de Fiscaliza...  ...   \n",
              "4  TR/SUBTT/CGLF/CFV - Coordenadoria de Fiscaliza...  ...   \n",
              "\n",
              "  id_area_planejamento id_regiao_planejamento nome_regiao_planejamento  \\\n",
              "0                  NaN                    NaN                      NaN   \n",
              "1                  NaN                    NaN                      NaN   \n",
              "2                  NaN                    NaN                      NaN   \n",
              "3                  NaN                    NaN                      NaN   \n",
              "4                  NaN                    NaN                      NaN   \n",
              "\n",
              "  id_regiao_administrativa nome_regiao_administrativa subprefeitura area  \\\n",
              "0                      NaN                        NaN           NaN  NaN   \n",
              "1                      NaN                        NaN           NaN  NaN   \n",
              "2                      NaN                        NaN           NaN  NaN   \n",
              "3                      NaN                        NaN           NaN  NaN   \n",
              "4                      NaN                        NaN           NaN  NaN   \n",
              "\n",
              "  perimetro  geometry_wkt  geometry  \n",
              "0       NaN           NaN       NaN  \n",
              "1       NaN           NaN       NaN  \n",
              "2       NaN           NaN       NaN  \n",
              "3       NaN           NaN       NaN  \n",
              "4       NaN           NaN       NaN  \n",
              "\n",
              "[5 rows x 43 columns]"
            ]
          },
          "execution_count": 113,
          "metadata": {},
          "output_type": "execute_result"
        }
      ],
      "source": [
        "df_merged[df_merged['id_bairro'].isna()].head()"
      ]
    },
    {
      "cell_type": "markdown",
      "metadata": {
        "id": "JedMVKjsfepf"
      },
      "source": [
        "Quando id_bairro é vazio, não é possível associar o chamado a nenhum bairro ou subprefeitura."
      ]
    },
    {
      "cell_type": "markdown",
      "metadata": {
        "id": "HC4PjPogfnk6"
      },
      "source": [
        "### 6. Quantos chamados com o subtipo \"Perturbação do sossego\" foram abertos desde 01/01/2022 até 31/12/2023 (incluindo extremidades)?"
      ]
    },
    {
      "cell_type": "code",
      "execution_count": 114,
      "metadata": {
        "colab": {
          "base_uri": "https://localhost:8080/"
        },
        "id": "O7kcOe_ZgFef",
        "outputId": "ba71016c-2447-4aed-c0c4-3ec02f95ca89"
      },
      "outputs": [
        {
          "name": "stderr",
          "output_type": "stream",
          "text": [
            "Downloading: 100%|██████████| 42830/42830 [00:12<00:00, 3559.32rows/s]\n"
          ]
        }
      ],
      "source": [
        "query_chamado = \"\"\"\n",
        "    SELECT *\n",
        "    FROM `datario.adm_central_atendimento_1746.chamado`\n",
        "    WHERE DATE(data_inicio) BETWEEN '2022-01-01' AND '2023-12-31'\n",
        "    AND subtipo = \"Perturbação do sossego\"\n",
        "\"\"\"\n",
        "df_chamado = bd.read_sql(query_chamado, billing_project_id=billing_project_id)"
      ]
    },
    {
      "cell_type": "code",
      "execution_count": 115,
      "metadata": {
        "colab": {
          "base_uri": "https://localhost:8080/"
        },
        "id": "3cYjupaSg8OK",
        "outputId": "1dcb332e-d906-4262-b32e-39af095dec72"
      },
      "outputs": [
        {
          "name": "stdout",
          "output_type": "stream",
          "text": [
            "Número de chamados com o subtipo 'Perturbação do sossego' de 01/01/2022 até 31/12/2023: 42830\n"
          ]
        }
      ],
      "source": [
        "print(f\"Número de chamados com o subtipo 'Perturbação do sossego' de 01/01/2022 até 31/12/2023: {df_chamado['id_chamado'].count()}\")"
      ]
    },
    {
      "cell_type": "markdown",
      "metadata": {
        "id": "UjlbEbYPiiAg"
      },
      "source": [
        "### 7. Selecione os chamados com esse subtipo que foram abertos durante os eventos contidos na tabela de eventos (Reveillon, Carnaval e Rock in Rio).\n",
        "### e 8. Quantos chamados desse subtipo foram abertos em cada evento?"
      ]
    },
    {
      "cell_type": "code",
      "execution_count": 116,
      "metadata": {
        "colab": {
          "base_uri": "https://localhost:8080/"
        },
        "id": "6UuBPUNKikzG",
        "outputId": "c918cc3e-1d39-4b1b-8184-63ebb0efd24d"
      },
      "outputs": [
        {
          "name": "stderr",
          "output_type": "stream",
          "text": [
            "Downloading: 100%|██████████| 8/8 [00:00<00:00, 31.51rows/s]\n"
          ]
        }
      ],
      "source": [
        "query_eventos = \"\"\" SELECT * FROM `datario.turismo_fluxo_visitantes.rede_hoteleira_ocupacao_eventos`\n",
        "\"\"\"\n",
        "df_eventos = bd.read_sql(query_eventos, billing_project_id=billing_project_id)"
      ]
    },
    {
      "cell_type": "code",
      "execution_count": 117,
      "metadata": {
        "id": "uMY2MNzLmj8c"
      },
      "outputs": [],
      "source": [
        "df_chamado['data_inicio'] = pd.to_datetime(df_chamado['data_inicio'])\n",
        "df_chamado['data_fim'] = pd.to_datetime(df_chamado['data_fim'])\n",
        "df_eventos['data_inicial'] = pd.to_datetime(df_eventos['data_inicial'])\n",
        "df_eventos['data_final'] = pd.to_datetime(df_eventos['data_final'])"
      ]
    },
    {
      "cell_type": "code",
      "execution_count": 118,
      "metadata": {
        "id": "WwPYvJDajMgF"
      },
      "outputs": [],
      "source": [
        "df_chamado['key'] = 1\n",
        "df_eventos['key'] = 1\n",
        "merged_df = pd.merge(df_chamado, df_eventos, on='key').drop('key', axis=1)\n",
        "\n",
        "filtered_df = merged_df[\n",
        "    (merged_df['data_inicio'] <= merged_df['data_final']) &\n",
        "    (merged_df['data_fim'] >= merged_df['data_inicial'])\n",
        "]\n",
        "\n",
        "filtered_df['evento_ajuste'] = filtered_df['evento'] + ' ' + filtered_df['ano'].astype(str)\n",
        "\n",
        "unique_df = filtered_df[['id_chamado', 'evento', 'ano', 'evento_ajuste']].drop_duplicates()"
      ]
    },
    {
      "cell_type": "code",
      "execution_count": 119,
      "metadata": {
        "colab": {
          "base_uri": "https://localhost:8080/"
        },
        "id": "wRvXYPxAom-V",
        "outputId": "37e16581-dbee-4e81-8212-60df5e613f21"
      },
      "outputs": [
        {
          "name": "stdout",
          "output_type": "stream",
          "text": [
            "                            evento_ajuste  chamados\n",
            "3       Rock in Rio 08/09 a 11/09 de 2022      4289\n",
            "2       Rock in Rio 02/09 a 04/09 de 2022      4182\n",
            "1  Reveillon 30-31/12 e 01/01 (2022-2023)       858\n",
            "0          Carnaval 18/02 a 21/02 de 2023       722\n"
          ]
        }
      ],
      "source": [
        "eventos_count = unique_df.groupby('evento_ajuste')['id_chamado'].count().reset_index()\n",
        "eventos_count.columns = ['evento_ajuste', 'chamados']\n",
        "\n",
        "eventos_count = eventos_count.sort_values(by='chamados', ascending=False)\n",
        "\n",
        "print(eventos_count)"
      ]
    },
    {
      "cell_type": "markdown",
      "metadata": {
        "id": "PxT87_qcph14"
      },
      "source": [
        "### 9. Qual evento teve a maior média diária de chamados abertos desse subtipo?"
      ]
    },
    {
      "cell_type": "code",
      "execution_count": 120,
      "metadata": {
        "colab": {
          "base_uri": "https://localhost:8080/"
        },
        "id": "GFM2ahpRpkDy",
        "outputId": "ae0eedf3-ae87-4761-f20d-5f9116537c25"
      },
      "outputs": [
        {
          "name": "stdout",
          "output_type": "stream",
          "text": [
            "Evento com a maior média diária de chamados:\n",
            "Evento: Rock in Rio 02/09 a 04/09 de 2022\n",
            "Total de Chamados: 8364\n",
            "Duração em Dias: 3\n",
            "Média Diária de Chamados: 2788.00\n"
          ]
        }
      ],
      "source": [
        "filtered_df['duracao_dias'] = (filtered_df['data_final'] - filtered_df['data_inicial']).dt.days + 1\n",
        "\n",
        "eventos_grouped = filtered_df.groupby(['evento', 'ano']).agg(\n",
        "    total_chamados=('id_chamado', 'count'),\n",
        "    duracao_dias=('duracao_dias', 'max')\n",
        ").reset_index()\n",
        "\n",
        "eventos_grouped['media_diaria_chamados'] = eventos_grouped['total_chamados'] / eventos_grouped['duracao_dias']\n",
        "\n",
        "evento_com_maior_media = eventos_grouped.sort_values(by='media_diaria_chamados', ascending=False).iloc[0]\n",
        "\n",
        "print(f\"Evento com a maior média diária de chamados:\")\n",
        "print(f\"Evento: {evento_com_maior_media['evento']} {evento_com_maior_media['ano']}\")\n",
        "print(f\"Total de Chamados: {evento_com_maior_media['total_chamados']}\")\n",
        "print(f\"Duração em Dias: {evento_com_maior_media['duracao_dias']}\")\n",
        "print(f\"Média Diária de Chamados: {evento_com_maior_media['media_diaria_chamados']:.2f}\")"
      ]
    },
    {
      "cell_type": "markdown",
      "metadata": {
        "id": "IwbDIZycqfqu"
      },
      "source": [
        "### 10. Compare as médias diárias de chamados abertos desse subtipo durante os eventos específicos (Reveillon, Carnaval e Rock in Rio) e a média diária de chamados abertos desse subtipo considerando todo o período de 01/01/2022 até 31/12/2023."
      ]
    },
    {
      "cell_type": "code",
      "execution_count": 121,
      "metadata": {
        "colab": {
          "base_uri": "https://localhost:8080/"
        },
        "id": "4KRwAZEiqR5R",
        "outputId": "546a2c65-72e6-49f3-f43e-e2e03e02ba95"
      },
      "outputs": [
        {
          "name": "stdout",
          "output_type": "stream",
          "text": [
            "        evento  total_chamados  duracao_dias  media_diaria_chamados  \\\n",
            "2  Rock in Rio            8364             3                 2788.0   \n",
            "3  Rock in Rio            8578             4                 2144.5   \n",
            "1    Reveillon            1716             3                  572.0   \n",
            "0     Carnaval            1444             4                  361.0   \n",
            "\n",
            "   media_diaria_geral         diff      percent  \n",
            "2           58.671233  2729.328767  4651.902872  \n",
            "3           58.671233  2085.828767  3555.113238  \n",
            "1           58.671233   513.328767   874.924119  \n",
            "0           58.671233   302.328767   515.293019  \n"
          ]
        }
      ],
      "source": [
        "dias_totais = (pd.to_datetime('2023-12-31') - pd.to_datetime('2022-01-01')).days + 1\n",
        "total_chamados_geral = df_chamado[df_chamado['subtipo'] == 'Perturbação do sossego'].shape[0]\n",
        "media_diaria_geral = total_chamados_geral / dias_totais\n",
        "\n",
        "eventos_grouped['media_diaria_geral'] = media_diaria_geral\n",
        "\n",
        "eventos_grouped['diff'] = eventos_grouped['media_diaria_chamados'] - media_diaria_geral\n",
        "eventos_grouped['percent'] = (eventos_grouped['media_diaria_chamados'] / media_diaria_geral - 1) * 100\n",
        "\n",
        "eventos_especificos = ['Reveillon', 'Carnaval', 'Rock in Rio']\n",
        "resultados = eventos_grouped[eventos_grouped['evento'].isin(eventos_especificos)]\n",
        "\n",
        "resultados = resultados.sort_values(by='media_diaria_chamados', ascending=False)\n",
        "\n",
        "print(resultados[['evento', 'total_chamados', 'duracao_dias', 'media_diaria_chamados', 'media_diaria_geral', 'diff', 'percent']])"
      ]
    },
    {
      "cell_type": "markdown",
      "metadata": {},
      "source": [
        "**Fiz o desafio de SQL (analise_sql.sql) duas semanas atrás e aparentemente dados foram adicionados ou modificados nas tabelas, por isso os resultados estão diferentes. Rodei hoje as queries novamente e os resultados batem com esses daqui.**"
      ]
    }
  ],
  "metadata": {
    "colab": {
      "provenance": []
    },
    "kernelspec": {
      "display_name": "Python 3",
      "name": "python3"
    },
    "language_info": {
      "name": "python",
      "version": "3.9.13"
    }
  },
  "nbformat": 4,
  "nbformat_minor": 0
}
